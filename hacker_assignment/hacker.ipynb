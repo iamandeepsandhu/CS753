{
  "nbformat": 4,
  "nbformat_minor": 0,
  "metadata": {
    "colab": {
      "name": "hacker",
      "provenance": [],
      "collapsed_sections": []
    },
    "kernelspec": {
      "name": "python3",
      "display_name": "Python 3"
    },
    "language_info": {
      "name": "python"
    }
  },
  "cells": [
    {
      "cell_type": "code",
      "source": [
        "!wget https://raw.githubusercontent.com/iamandeepsandhu/CS753/main/hacker_assignment/requirements\n",
        "!pip install -r requirements\n",
        "!pip install --upgrade youtube-dl\n",
        "!pip install moviepy"
      ],
      "metadata": {
        "colab": {
          "base_uri": "https://localhost:8080/"
        },
        "id": "l9PvgsQKY-ra",
        "outputId": "dfa15f5f-0997-470a-cb94-dfff73a297f2"
      },
      "execution_count": 1,
      "outputs": [
        {
          "output_type": "stream",
          "name": "stdout",
          "text": [
            "--2022-05-06 16:54:02--  https://raw.githubusercontent.com/iamandeepsandhu/CS753/main/hacker_assignment/requirements\n",
            "Resolving raw.githubusercontent.com (raw.githubusercontent.com)... 185.199.108.133, 185.199.109.133, 185.199.110.133, ...\n",
            "Connecting to raw.githubusercontent.com (raw.githubusercontent.com)|185.199.108.133|:443... connected.\n",
            "HTTP request sent, awaiting response... 200 OK\n",
            "Length: 51 [text/plain]\n",
            "Saving to: ‘requirements’\n",
            "\n",
            "\rrequirements          0%[                    ]       0  --.-KB/s               \rrequirements        100%[===================>]      51  --.-KB/s    in 0s      \n",
            "\n",
            "2022-05-06 16:54:03 (1.91 MB/s) - ‘requirements’ saved [51/51]\n",
            "\n",
            "Collecting pyacoustid==1.2.0\n",
            "  Downloading pyacoustid-1.2.0.tar.gz (15 kB)\n",
            "Collecting urllib3==1.25.9\n",
            "  Downloading urllib3-1.25.9-py2.py3-none-any.whl (126 kB)\n",
            "\u001b[K     |████████████████████████████████| 126 kB 9.3 MB/s \n",
            "\u001b[?25hCollecting requests==2.24.0\n",
            "  Downloading requests-2.24.0-py2.py3-none-any.whl (61 kB)\n",
            "\u001b[K     |████████████████████████████████| 61 kB 395 kB/s \n",
            "\u001b[?25hRequirement already satisfied: audioread in /usr/local/lib/python3.7/dist-packages (from pyacoustid==1.2.0->-r requirements (line 1)) (2.1.9)\n",
            "Requirement already satisfied: idna<3,>=2.5 in /usr/local/lib/python3.7/dist-packages (from requests==2.24.0->-r requirements (line 3)) (2.10)\n",
            "Requirement already satisfied: chardet<4,>=3.0.2 in /usr/local/lib/python3.7/dist-packages (from requests==2.24.0->-r requirements (line 3)) (3.0.4)\n",
            "Requirement already satisfied: certifi>=2017.4.17 in /usr/local/lib/python3.7/dist-packages (from requests==2.24.0->-r requirements (line 3)) (2021.10.8)\n",
            "Building wheels for collected packages: pyacoustid\n",
            "  Building wheel for pyacoustid (setup.py) ... \u001b[?25l\u001b[?25hdone\n",
            "  Created wheel for pyacoustid: filename=pyacoustid-1.2.0-py3-none-any.whl size=12491 sha256=29e4d56636ffdb8cf2c62c78065783065ef251d47da48a2a5b3869a68ee77a2c\n",
            "  Stored in directory: /root/.cache/pip/wheels/d2/ce/8a/fab3d9471e6223cf27f4615c1322567caca467670f2b498ae7\n",
            "Successfully built pyacoustid\n",
            "Installing collected packages: urllib3, requests, pyacoustid\n",
            "  Attempting uninstall: urllib3\n",
            "    Found existing installation: urllib3 1.24.3\n",
            "    Uninstalling urllib3-1.24.3:\n",
            "      Successfully uninstalled urllib3-1.24.3\n",
            "  Attempting uninstall: requests\n",
            "    Found existing installation: requests 2.23.0\n",
            "    Uninstalling requests-2.23.0:\n",
            "      Successfully uninstalled requests-2.23.0\n",
            "\u001b[31mERROR: pip's dependency resolver does not currently take into account all the packages that are installed. This behaviour is the source of the following dependency conflicts.\n",
            "google-colab 1.0.0 requires requests~=2.23.0, but you have requests 2.24.0 which is incompatible.\n",
            "datascience 0.10.6 requires folium==0.2.1, but you have folium 0.8.3 which is incompatible.\u001b[0m\n",
            "Successfully installed pyacoustid-1.2.0 requests-2.24.0 urllib3-1.25.9\n",
            "Collecting youtube-dl\n",
            "  Downloading youtube_dl-2021.12.17-py2.py3-none-any.whl (1.9 MB)\n",
            "\u001b[K     |████████████████████████████████| 1.9 MB 6.3 MB/s \n",
            "\u001b[?25hInstalling collected packages: youtube-dl\n",
            "Successfully installed youtube-dl-2021.12.17\n",
            "Requirement already satisfied: moviepy in /usr/local/lib/python3.7/dist-packages (0.2.3.5)\n",
            "Requirement already satisfied: imageio<3.0,>=2.1.2 in /usr/local/lib/python3.7/dist-packages (from moviepy) (2.4.1)\n",
            "Requirement already satisfied: tqdm<5.0,>=4.11.2 in /usr/local/lib/python3.7/dist-packages (from moviepy) (4.64.0)\n",
            "Requirement already satisfied: decorator<5.0,>=4.0.2 in /usr/local/lib/python3.7/dist-packages (from moviepy) (4.4.2)\n",
            "Requirement already satisfied: numpy in /usr/local/lib/python3.7/dist-packages (from moviepy) (1.21.6)\n",
            "Requirement already satisfied: pillow in /usr/local/lib/python3.7/dist-packages (from imageio<3.0,>=2.1.2->moviepy) (7.1.2)\n"
          ]
        }
      ]
    },
    {
      "cell_type": "code",
      "execution_count": 2,
      "metadata": {
        "id": "Nq0HKONsS9lc",
        "colab": {
          "base_uri": "https://localhost:8080/"
        },
        "outputId": "9c838158-597c-4802-a01b-9fba19597b70"
      },
      "outputs": [
        {
          "output_type": "stream",
          "name": "stdout",
          "text": [
            "Imageio: 'ffmpeg-linux64-v3.3.1' was not found on your computer; downloading it now.\n",
            "Try 1. Download from https://github.com/imageio/imageio-binaries/raw/master/ffmpeg/ffmpeg-linux64-v3.3.1 (43.8 MB)\n",
            "Downloading: 8192/45929032 bytes (0.0%)\b\b\b\b\b\b\b\b\b\b\b\b\b\b\b\b\b\b\b\b\b\b\b\b\b\b2932736/45929032 bytes (6.4%)\b\b\b\b\b\b\b\b\b\b\b\b\b\b\b\b\b\b\b\b\b\b\b\b\b\b\b\b\b6365184/45929032 bytes (13.9%)\b\b\b\b\b\b\b\b\b\b\b\b\b\b\b\b\b\b\b\b\b\b\b\b\b\b\b\b\b\b9617408/45929032 bytes (20.9%)\b\b\b\b\b\b\b\b\b\b\b\b\b\b\b\b\b\b\b\b\b\b\b\b\b\b\b\b\b\b12894208/45929032 bytes (28.1%)\b\b\b\b\b\b\b\b\b\b\b\b\b\b\b\b\b\b\b\b\b\b\b\b\b\b\b\b\b\b\b16318464/45929032 bytes (35.5%)\b\b\b\b\b\b\b\b\b\b\b\b\b\b\b\b\b\b\b\b\b\b\b\b\b\b\b\b\b\b\b19611648/45929032 bytes (42.7%)\b\b\b\b\b\b\b\b\b\b\b\b\b\b\b\b\b\b\b\b\b\b\b\b\b\b\b\b\b\b\b22798336/45929032 bytes (49.6%)\b\b\b\b\b\b\b\b\b\b\b\b\b\b\b\b\b\b\b\b\b\b\b\b\b\b\b\b\b\b\b26279936/45929032 bytes (57.2%)\b\b\b\b\b\b\b\b\b\b\b\b\b\b\b\b\b\b\b\b\b\b\b\b\b\b\b\b\b\b\b29827072/45929032 bytes (64.9%)\b\b\b\b\b\b\b\b\b\b\b\b\b\b\b\b\b\b\b\b\b\b\b\b\b\b\b\b\b\b\b33546240/45929032 bytes (73.0%)\b\b\b\b\b\b\b\b\b\b\b\b\b\b\b\b\b\b\b\b\b\b\b\b\b\b\b\b\b\b\b36913152/45929032 bytes (80.4%)\b\b\b\b\b\b\b\b\b\b\b\b\b\b\b\b\b\b\b\b\b\b\b\b\b\b\b\b\b\b\b39870464/45929032 bytes (86.8%)\b\b\b\b\b\b\b\b\b\b\b\b\b\b\b\b\b\b\b\b\b\b\b\b\b\b\b\b\b\b\b42680320/45929032 bytes (92.9%)\b\b\b\b\b\b\b\b\b\b\b\b\b\b\b\b\b\b\b\b\b\b\b\b\b\b\b\b\b\b\b45929032/45929032 bytes (100.0%)\n",
            "  Done\n",
            "File saved as /root/.imageio/ffmpeg/ffmpeg-linux64-v3.3.1.\n"
          ]
        }
      ],
      "source": [
        "import os\n",
        "import urllib.request\n",
        "import subprocess\n",
        "import re\n",
        "import acoustid\n",
        "import chromaprint\n",
        "import youtube_dl\n",
        "import moviepy.editor as mp\n",
        "import librosa\n",
        "import matplotlib.pyplot as plt\n",
        "import librosa.display\n",
        "from fastdtw import fastdtw\n",
        "from scipy.spatial.distance import euclidean"
      ]
    },
    {
      "cell_type": "code",
      "source": [
        "URLS = ['https://www.youtube.com/watch?v=-7UzQEUyrQA','https://www.youtube.com/watch?v=C-hzP3mOBGY',\n",
        "        'https://www.youtube.com/watch?v=sNFjR2w_bsw','https://www.youtube.com/watch?v=hJs68D04Ypw',\n",
        "        'https://www.youtube.com/watch?v=32Bxe2Nr81E','https://www.youtube.com/watch?v=2c8vTDgXULg']"
      ],
      "metadata": {
        "id": "v5jLl2Z4QsMr"
      },
      "execution_count": 10,
      "outputs": []
    },
    {
      "cell_type": "code",
      "source": [
        "# the following code was taken from \n",
        "# https://stackoverflow.com/questions/40713268/download-youtube-video-using-python-to-a-certain-directory\n",
        "\n",
        "ydl_opts = { 'outtmpl': 'content/videos/%(title)s'+'.mp4'}\n",
        "with youtube_dl.YoutubeDL(ydl_opts) as ydl:\n",
        "    ydl.download(URLS)"
      ],
      "metadata": {
        "colab": {
          "base_uri": "https://localhost:8080/"
        },
        "id": "YBFLXtZUIrA_",
        "outputId": "3cde7b1a-0425-4371-827e-03d807071510"
      },
      "execution_count": 11,
      "outputs": [
        {
          "output_type": "stream",
          "name": "stdout",
          "text": [
            "[youtube] -7UzQEUyrQA: Downloading webpage\n",
            "[download] content/videos/Discover This Way (15-second clip) _ Renaissance Hotels.mp4 has already been downloaded and merged\n",
            "[youtube] C-hzP3mOBGY: Downloading webpage\n"
          ]
        },
        {
          "output_type": "stream",
          "name": "stderr",
          "text": [
            "WARNING: Requested formats are incompatible for merge and will be merged into mkv.\n"
          ]
        },
        {
          "output_type": "stream",
          "name": "stdout",
          "text": [
            "[download] content/videos/Rain Sounds   15 seconds soundtrack.mkv has already been downloaded and merged\n",
            "[youtube] sNFjR2w_bsw: Downloading webpage\n",
            "[youtube] sNFjR2w_bsw: Downloading MPD manifest\n"
          ]
        },
        {
          "output_type": "stream",
          "name": "stderr",
          "text": [
            "WARNING: Requested formats are incompatible for merge and will be merged into mkv.\n"
          ]
        },
        {
          "output_type": "stream",
          "name": "stdout",
          "text": [
            "[download] content/videos/News 96.5 WDBO - 15 sec TV Spot.mkv has already been downloaded and merged\n",
            "[youtube] hJs68D04Ypw: Downloading webpage\n",
            "[download] content/videos/Car BMW M4 drifting beat drop _DDRAKE_whatsapp status 15 sec.mp4 has already been downloaded and merged\n",
            "[youtube] 32Bxe2Nr81E: Downloading webpage\n"
          ]
        },
        {
          "output_type": "stream",
          "name": "stderr",
          "text": [
            "WARNING: Requested formats are incompatible for merge and will be merged into mkv.\n"
          ]
        },
        {
          "output_type": "stream",
          "name": "stdout",
          "text": [
            "[download] Destination: content/videos/Sell Your Car to Kendall - 15 Second Version.f137.mp4\n",
            "[download] 100% of 2.39MiB in 00:30\n",
            "[download] Destination: content/videos/Sell Your Car to Kendall - 15 Second Version.mp4.f251\n",
            "[download] 100% of 261.22KiB in 00:03\n",
            "[ffmpeg] Merging formats into \"content/videos/Sell Your Car to Kendall - 15 Second Version.mkv\"\n",
            "Deleting original file content/videos/Sell Your Car to Kendall - 15 Second Version.f137.mp4 (pass -k to keep)\n",
            "Deleting original file content/videos/Sell Your Car to Kendall - 15 Second Version.mp4.f251 (pass -k to keep)\n",
            "[youtube] 2c8vTDgXULg: Downloading webpage\n",
            "[youtube] 2c8vTDgXULg: Downloading MPD manifest\n",
            "[download] content/videos/Our RACE CARS in 15 seconds!.mp4 has already been downloaded and merged\n"
          ]
        }
      ]
    },
    {
      "cell_type": "code",
      "source": [
        "path = \"/content/content/videos/\"\n",
        "i=1\n",
        "for filename in os.scandir(path):\n",
        "    if filename.is_file():\n",
        "      clip = mp.VideoFileClip(filename.path)\n",
        "      print(filename.path)\n",
        "      clip.audio.write_audiofile(str(i) + \".wav\")\n",
        "      i=i+1"
      ],
      "metadata": {
        "colab": {
          "base_uri": "https://localhost:8080/"
        },
        "id": "GaSClpwT-BDN",
        "outputId": "b83a4eae-46d0-4727-b5b9-b9849e368f65"
      },
      "execution_count": 12,
      "outputs": [
        {
          "output_type": "stream",
          "name": "stdout",
          "text": [
            "/content/content/videos/Sell Your Car to Kendall - 15 Second Version.mkv\n",
            "[MoviePy] Writing audio in 1.wav\n"
          ]
        },
        {
          "output_type": "stream",
          "name": "stderr",
          "text": [
            "100%|██████████| 333/333 [00:00<00:00, 1801.06it/s]"
          ]
        },
        {
          "output_type": "stream",
          "name": "stdout",
          "text": [
            "[MoviePy] Done.\n"
          ]
        },
        {
          "output_type": "stream",
          "name": "stderr",
          "text": [
            "\n"
          ]
        },
        {
          "output_type": "stream",
          "name": "stdout",
          "text": [
            "/content/content/videos/Rain Sounds   15 seconds soundtrack.mkv\n",
            "[MoviePy] Writing audio in 2.wav\n"
          ]
        },
        {
          "output_type": "stream",
          "name": "stderr",
          "text": [
            "100%|██████████| 333/333 [00:00<00:00, 1781.13it/s]"
          ]
        },
        {
          "output_type": "stream",
          "name": "stdout",
          "text": [
            "[MoviePy] Done.\n"
          ]
        },
        {
          "output_type": "stream",
          "name": "stderr",
          "text": [
            "\n"
          ]
        },
        {
          "output_type": "stream",
          "name": "stdout",
          "text": [
            "/content/content/videos/Our RACE CARS in 15 seconds!.mp4\n",
            "[MoviePy] Writing audio in 3.wav\n"
          ]
        },
        {
          "output_type": "stream",
          "name": "stderr",
          "text": [
            "100%|██████████| 311/311 [00:00<00:00, 2498.51it/s]"
          ]
        },
        {
          "output_type": "stream",
          "name": "stdout",
          "text": [
            "[MoviePy] Done.\n"
          ]
        },
        {
          "output_type": "stream",
          "name": "stderr",
          "text": [
            "\n"
          ]
        },
        {
          "output_type": "stream",
          "name": "stdout",
          "text": [
            "/content/content/videos/Car BMW M4 drifting beat drop _DDRAKE_whatsapp status 15 sec.mp4\n",
            "[MoviePy] Writing audio in 4.wav\n"
          ]
        },
        {
          "output_type": "stream",
          "name": "stderr",
          "text": [
            "100%|██████████| 352/352 [00:00<00:00, 2321.58it/s]"
          ]
        },
        {
          "output_type": "stream",
          "name": "stdout",
          "text": [
            "[MoviePy] Done.\n"
          ]
        },
        {
          "output_type": "stream",
          "name": "stderr",
          "text": [
            "\n"
          ]
        },
        {
          "output_type": "stream",
          "name": "stdout",
          "text": [
            "/content/content/videos/Discover This Way (15-second clip) _ Renaissance Hotels.mp4\n",
            "[MoviePy] Writing audio in 5.wav\n"
          ]
        },
        {
          "output_type": "stream",
          "name": "stderr",
          "text": [
            "100%|██████████| 333/333 [00:00<00:00, 2518.06it/s]"
          ]
        },
        {
          "output_type": "stream",
          "name": "stdout",
          "text": [
            "[MoviePy] Done.\n"
          ]
        },
        {
          "output_type": "stream",
          "name": "stderr",
          "text": [
            "\n"
          ]
        },
        {
          "output_type": "stream",
          "name": "stdout",
          "text": [
            "/content/content/videos/News 96.5 WDBO - 15 sec TV Spot.mkv\n",
            "[MoviePy] Writing audio in 6.wav\n"
          ]
        },
        {
          "output_type": "stream",
          "name": "stderr",
          "text": [
            "100%|██████████| 332/332 [00:00<00:00, 1741.80it/s]"
          ]
        },
        {
          "output_type": "stream",
          "name": "stdout",
          "text": [
            "[MoviePy] Done.\n"
          ]
        },
        {
          "output_type": "stream",
          "name": "stderr",
          "text": [
            "\n"
          ]
        }
      ]
    },
    {
      "cell_type": "markdown",
      "source": [
        "# Helper functions for audio fingerprint comparison"
      ],
      "metadata": {
        "id": "tWf0orZfQ2PX"
      }
    },
    {
      "cell_type": "code",
      "source": [
        "#converting audio files into fingerprint\n",
        "def fingerprint_conversion(input):\n",
        "    time, raw = acoustid.fingerprint_file(input)\n",
        "    fingerprint, _version = chromaprint.decode_fingerprint(raw)\n",
        "    return (fingerprint, time)\n",
        "\n",
        "#similarity index between two files\n",
        "def check_audio_similarity(input1, input2):\n",
        "    file1, _duration1 = fingerprint_conversion(input1)\n",
        "    file2, _duration2 = fingerprint_conversion(input2)\n",
        "    return correlation(file1, file2)\n",
        "\n",
        "#correlation helper function    \n",
        "def correlation(arr1, arr2):\n",
        "    if len(arr1) > len(arr2):\n",
        "      arr1 = arr1[:len(arr2)]\n",
        "    elif len(arr1) < len(arr2):\n",
        "      arr2 = arr2[:len(arr1)]\n",
        "    covariance = 0\n",
        "    for i in range(len(arr1)):\n",
        "        covariance = covariance + 32 - bin(arr1[i] ^ arr2[i]).count(\"1\")\n",
        "    covariance = covariance / float(len(arr1))\n",
        "    return covariance/32"
      ],
      "metadata": {
        "id": "Eib21EO7YlLc"
      },
      "execution_count": 13,
      "outputs": []
    },
    {
      "cell_type": "markdown",
      "source": [
        "# Helper function for MFCC matrix making and comparison"
      ],
      "metadata": {
        "id": "aq0riJK4RE5N"
      }
    },
    {
      "cell_type": "code",
      "source": [
        "#converting audio file into mfcc matrix\n",
        "def mfcc_compare(file1,file2):\n",
        "  y1, s1 = librosa.load(file1) \n",
        "  y2, s2 = librosa.load(file2) \n",
        "  mfcc1 = librosa.feature.mfcc(y1,s1)\n",
        "  mfcc2 = librosa.feature.mfcc(y2, s2)\n",
        "  distance, path = fastdtw(mfcc1.T, mfcc2.T, dist=euclidean)\n",
        "  return distance"
      ],
      "metadata": {
        "id": "oO3RWMcCRFCv"
      },
      "execution_count": 14,
      "outputs": []
    },
    {
      "cell_type": "markdown",
      "source": [
        "# Results using audio fingerprint"
      ],
      "metadata": {
        "id": "Lj7EiIVaPYtV"
      }
    },
    {
      "cell_type": "code",
      "source": [
        "number_of_files = len(URLS)\n",
        "for i in range(1,number_of_files+1):\n",
        "  base = i\n",
        "  dic = dict()\n",
        "  for j in range(1,number_of_files+1):\n",
        "    if i!=j:\n",
        "      dic[check_audio_similarity(str(base) + \".wav\", str(j) + \".wav\")] = j\n",
        "  print(\"most similar to \", str(base) + \".wav :\")\n",
        "  for z in sorted (dic, reverse=True) :\n",
        "    print (str(dic[z]) + \".wav\", z)\n",
        "  print(\"--------------------------\")"
      ],
      "metadata": {
        "colab": {
          "base_uri": "https://localhost:8080/"
        },
        "id": "8EaZFxgGVl4D",
        "outputId": "4163c1e9-f7ed-4e08-c437-de81a8b27c75"
      },
      "execution_count": 16,
      "outputs": [
        {
          "output_type": "stream",
          "name": "stdout",
          "text": [
            "most similar to  1.wav :\n",
            "2.wav 0.5378125\n",
            "6.wav 0.529375\n",
            "5.wav 0.5253125\n",
            "4.wav 0.5096875\n",
            "3.wav 0.5057744565217391\n",
            "--------------------------\n",
            "most similar to  2.wav :\n",
            "3.wav 0.5502717391304348\n",
            "6.wav 0.5428125\n",
            "1.wav 0.5378125\n",
            "4.wav 0.5334375\n",
            "5.wav 0.4753125\n",
            "--------------------------\n",
            "most similar to  3.wav :\n",
            "2.wav 0.5502717391304348\n",
            "6.wav 0.5332880434782609\n",
            "5.wav 0.506453804347826\n",
            "1.wav 0.5057744565217391\n",
            "4.wav 0.5003396739130435\n",
            "--------------------------\n",
            "most similar to  4.wav :\n",
            "2.wav 0.5334375\n",
            "6.wav 0.5178125\n",
            "1.wav 0.5096875\n",
            "3.wav 0.5003396739130435\n",
            "5.wav 0.48875\n",
            "--------------------------\n",
            "most similar to  5.wav :\n",
            "1.wav 0.5253125\n",
            "3.wav 0.506453804347826\n",
            "6.wav 0.4946875\n",
            "4.wav 0.48875\n",
            "2.wav 0.4753125\n",
            "--------------------------\n",
            "most similar to  6.wav :\n",
            "2.wav 0.5428125\n",
            "3.wav 0.5332880434782609\n",
            "1.wav 0.529375\n",
            "4.wav 0.5178125\n",
            "5.wav 0.4946875\n",
            "--------------------------\n"
          ]
        }
      ]
    },
    {
      "cell_type": "markdown",
      "source": [
        "# Results using mfcc"
      ],
      "metadata": {
        "id": "Cq7TkSpyPTrx"
      }
    },
    {
      "cell_type": "code",
      "source": [
        "for i in range(1,number_of_files+1):\n",
        "  base = i\n",
        "  dic = dict()\n",
        "  for j in range(1,number_of_files+1):\n",
        "    if i!=j:\n",
        "      dic[mfcc_compare(str(base) + \".wav\", str(j) + \".wav\")] = j\n",
        "  print(\"most similar to \", str(base) + \".wav :\")\n",
        "  for z in sorted (dic) :\n",
        "    print (str(dic[z]) + \".wav\", z)\n",
        "  print(\"--------------------------\")"
      ],
      "metadata": {
        "colab": {
          "base_uri": "https://localhost:8080/"
        },
        "id": "XEBCdW_kBNrj",
        "outputId": "8ad9b132-5499-4b34-fd75-65b354f2c28d"
      },
      "execution_count": 17,
      "outputs": [
        {
          "output_type": "stream",
          "name": "stdout",
          "text": [
            "most similar to  1.wav :\n",
            "5.wav 86012.72419966848\n",
            "3.wav 115376.9528775518\n",
            "2.wav 118048.94403316177\n",
            "6.wav 132339.87163849932\n",
            "4.wav 141789.9745698593\n",
            "--------------------------\n",
            "most similar to  2.wav :\n",
            "1.wav 118048.94403316177\n",
            "5.wav 134000.15500514512\n",
            "3.wav 180678.41586058907\n",
            "6.wav 189219.7240103371\n",
            "4.wav 209715.5198953763\n",
            "--------------------------\n",
            "most similar to  3.wav :\n",
            "6.wav 73095.96043777342\n",
            "5.wav 87263.7002527187\n",
            "4.wav 89243.86992780589\n",
            "1.wav 115491.08432720318\n",
            "2.wav 180678.41586058907\n",
            "--------------------------\n",
            "most similar to  4.wav :\n",
            "3.wav 88225.9125032911\n",
            "6.wav 95378.36515183205\n",
            "5.wav 125774.4723645673\n",
            "1.wav 140839.1616019985\n",
            "2.wav 209690.62695721968\n",
            "--------------------------\n",
            "most similar to  5.wav :\n",
            "1.wav 86296.93441314806\n",
            "3.wav 87272.07534874236\n",
            "6.wav 105794.27376908447\n",
            "4.wav 125263.04874750183\n",
            "2.wav 134000.15500514512\n",
            "--------------------------\n",
            "most similar to  6.wav :\n",
            "3.wav 73870.12642095714\n",
            "4.wav 96995.36780332035\n",
            "5.wav 106307.50523496573\n",
            "1.wav 131905.30396146973\n",
            "2.wav 189235.01576414166\n",
            "--------------------------\n"
          ]
        }
      ]
    },
    {
      "cell_type": "code",
      "source": [
        ""
      ],
      "metadata": {
        "id": "68B6Ey0bBT0V"
      },
      "execution_count": null,
      "outputs": []
    }
  ]
}